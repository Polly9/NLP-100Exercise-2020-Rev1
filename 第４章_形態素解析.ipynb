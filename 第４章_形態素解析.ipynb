{
 "cells": [
  {
   "cell_type": "markdown",
   "metadata": {},
   "source": [
    "夏目漱石の小説『吾輩は猫である』の文章（neko.txt）をMeCabを使って形態素解析し，その結果をneko.txt.mecabというファイルに保存せよ．このファイルを用いて，以下の問に対応するプログラムを実装せよ．なお，問題37, 38, 39はmatplotlibもしくはGnuplotを用いるとよい．"
   ]
  },
  {
   "cell_type": "code",
   "execution_count": 1,
   "metadata": {},
   "outputs": [
    {
     "name": "stdout",
     "output_type": "stream",
     "text": [
      "一\t名詞,数,*,*,*,*,一,イチ,イチ\r\n",
      "EOS\r\n",
      "EOS\r\n",
      "　\t記号,空白,*,*,*,*,　,　,　\r\n",
      "吾輩\t名詞,代名詞,一般,*,*,*,吾輩,ワガハイ,ワガハイ\r\n",
      "は\t助詞,係助詞,*,*,*,*,は,ハ,ワ\r\n",
      "猫\t名詞,一般,*,*,*,*,猫,ネコ,ネコ\r\n",
      "で\t助動詞,*,*,*,特殊・ダ,連用形,だ,デ,デ\r\n",
      "ある\t助動詞,*,*,*,五段・ラ行アル,基本形,ある,アル,アル\r\n",
      "。\t記号,句点,*,*,*,*,。,。,。\r\n"
     ]
    }
   ],
   "source": [
    "#mecab < ../input/neko.txt > ../input/neko.txt.mecab\n",
    "!head ../input/neko.txt.mecab"
   ]
  },
  {
   "cell_type": "markdown",
   "metadata": {},
   "source": [
    "### 30. 形態素解析結果の読み込みPermalink\n",
    "形態素解析結果（neko.txt.mecab）を読み込むプログラムを実装せよ．ただし，各形態素は表層形（surface），基本形（base），品詞（pos），品詞細分類1（pos1）をキーとするマッピング型に格納し，1文を形態素（マッピング型）のリストとして表現せよ．第4章の残りの問題では，ここで作ったプログラムを活用せよ．"
   ]
  },
  {
   "cell_type": "code",
   "execution_count": null,
   "metadata": {},
   "outputs": [],
   "source": [
    "def keitaiso(path):\n",
    "    with open(path) as f:\n",
    "        text = f.read().split('\\n')\n",
    "    dics = []\n",
    "    for line in text:\n",
    "        if line != 'EOS':\n",
    "            ls = line.split('\\t')\n",
    "            dic = {}\n",
    "            tmp = ls[1].split(',')\n",
    "            dic = {'surface':ls[0], 'base':tmp[6], 'pos':tmp[0], 'pos1':tmp[1]}\n",
    "            dics.append(dic)\n",
    "    return dics\n",
    "\n",
    "path = '../input/neko.txt.mecab'\n",
    "print(keitaiso(path))"
   ]
  },
  {
   "cell_type": "markdown",
   "metadata": {},
   "source": [
    "### 31. 動詞Permalink\n",
    "動詞の表層形をすべて抽出せよ．"
   ]
  },
  {
   "cell_type": "code",
   "execution_count": null,
   "metadata": {},
   "outputs": [],
   "source": [
    "path = '../input/neko.txt.mecab'\n",
    "dics = keitaiso(path)\n",
    "print([dic['surface'] for dic in dics if dic['pos'] == '動詞'])"
   ]
  },
  {
   "cell_type": "markdown",
   "metadata": {},
   "source": [
    "### 32. 動詞の基本形Permalink\n",
    "動詞の基本形をすべて抽出せよ．"
   ]
  },
  {
   "cell_type": "code",
   "execution_count": null,
   "metadata": {},
   "outputs": [],
   "source": [
    "path = '../input/neko.txt.mecab'\n",
    "dics = keitaiso(path)\n",
    "print([dic['base'] for dic in dics if dic['pos'] == '動詞'])"
   ]
  },
  {
   "cell_type": "markdown",
   "metadata": {},
   "source": [
    "### 33. 「AのB」Permalink\n",
    "2つの名詞が「の」で連結されている名詞句を抽出せよ．"
   ]
  },
  {
   "cell_type": "code",
   "execution_count": 5,
   "metadata": {},
   "outputs": [],
   "source": [
    "path = '../input/neko.txt.mecab'\n",
    "dics = keitaiso(path)\n",
    "result = []\n",
    "for i in range(len(dics)):\n",
    "    if dics[i]['pos'] == '名詞' and dics[i-1]['surface'] == 'の' and dics[i+1]['surface'] == 'の':\n",
    "        result.append(dics[i]['surface'])\n",
    "print(result)"
   ]
  },
  {
   "cell_type": "markdown",
   "metadata": {},
   "source": [
    "### 34. 名詞の連接Permalink\n",
    "名詞の連接（連続して出現する名詞）を最長一致で抽出せよ．"
   ]
  },
  {
   "cell_type": "code",
   "execution_count": 6,
   "metadata": {},
   "outputs": [],
   "source": [
    "path = '../input/neko.txt.mecab'\n",
    "dics = keitaiso(path)\n",
    "result = []\n",
    "word = ''\n",
    "for dic in dics:\n",
    "    if dic['pos'] == '名詞' :\n",
    "        word += dic['surface']\n",
    "    else:\n",
    "        if word != '':\n",
    "            result.append(word)\n",
    "            word = ''\n",
    "print(result)"
   ]
  },
  {
   "cell_type": "markdown",
   "metadata": {},
   "source": [
    "### 35. 単語の出現頻度Permalink\n",
    "文章中に出現する単語とその出現頻度を求め，出現頻度の高い順に並べよ．"
   ]
  },
  {
   "cell_type": "code",
   "execution_count": 7,
   "metadata": {},
   "outputs": [
    {
     "name": "stdout",
     "output_type": "stream",
     "text": [
      "[('の', 9193), ('。', 7486), ('て', 6868), ('、', 6773), ('は', 6421), ('に', 6242), ('を', 6071), ('と', 5508), ('が', 5337), ('た', 3986)]\n"
     ]
    }
   ],
   "source": [
    "import collections\n",
    "path = '../input/neko.txt.mecab'\n",
    "dics = keitaiso(path)\n",
    "words = []\n",
    "for dic in dics:\n",
    "    words.append(dic['surface'])\n",
    "c = collections.Counter(words)\n",
    "print(c.most_common()[:10])"
   ]
  },
  {
   "cell_type": "markdown",
   "metadata": {},
   "source": [
    "### 36. 頻度上位10語Permalink\n",
    "出現頻度が高い10語とその出現頻度をグラフ（例えば棒グラフなど）で表示せよ．"
   ]
  },
  {
   "cell_type": "code",
   "execution_count": 8,
   "metadata": {},
   "outputs": [
    {
     "data": {
      "image/png": "[encoded data removed]",
      "text/plain": [
       "<Figure size 432x360 with 1 Axes>"
      ]
     },
     "metadata": {
      "needs_background": "light"
     },
     "output_type": "display_data"
    }
   ],
   "source": [
    "import collections\n",
    "path = '../input/neko.txt.mecab'\n",
    "dics = keitaiso(path)\n",
    "words = []\n",
    "for dic in dics:\n",
    "    words.append(dic['surface'])\n",
    "c = collections.Counter(words)\n",
    "x = []\n",
    "y = []\n",
    "for w in c.most_common()[:10]:\n",
    "    x.append(w[0])\n",
    "    y.append(w[1])\n",
    "\n",
    "import matplotlib.pyplot as plt\n",
    "%matplotlib inline\n",
    "plt.rcParams['font.family'] = 'AppleGothic'\n",
    "\n",
    "fig, ax = plt.subplots(1, 1, figsize=(6, 5))\n",
    "ax.bar(x, y)\n",
    "ax.set_xlabel('surface')\n",
    "ax.set_ylabel('counts')\n",
    "ax.set_title('頻出語')\n",
    "plt.show()"
   ]
  },
  {
   "cell_type": "markdown",
   "metadata": {},
   "source": [
    "### 37. 「猫」と共起頻度の高い上位10語Permalink\n",
    "「猫」とよく共起する（共起頻度が高い）10語とその出現頻度をグラフ（例えば棒グラフなど）で表示せよ．"
   ]
  },
  {
   "cell_type": "code",
   "execution_count": 9,
   "metadata": {},
   "outputs": [
    {
     "data": {
      "image/png": "[encoded data removed]",
      "text/plain": [
       "<Figure size 432x360 with 1 Axes>"
      ]
     },
     "metadata": {
      "needs_background": "light"
     },
     "output_type": "display_data"
    }
   ],
   "source": [
    "#共起: 任意の文書や文に、ある文字列とある文字列が同時に出現すること\n",
    "\n",
    "path = '../input/neko.txt.mecab'\n",
    "with open(path) as f:\n",
    "    text = f.read().split('\\n')\n",
    "\n",
    "#一文ごとに分割\n",
    "ls = []\n",
    "line = []\n",
    "for w in text:\n",
    "    if w != 'EOS':\n",
    "        line.append(w)\n",
    "    else:\n",
    "        if w != '':\n",
    "            ls.append(line)\n",
    "            line = []\n",
    "\n",
    "#使用単語を一文単位で取得\n",
    "ws = []\n",
    "lines = []\n",
    "for l in ls:\n",
    "    for m in l:\n",
    "        n = m.split('\\t')\n",
    "        ws.append(n[0])\n",
    "    lines.append(ws)\n",
    "    ws = []\n",
    "\n",
    "#「猫」が含まれる文章を抽出\n",
    "neko_lines = []\n",
    "for line in lines:\n",
    "    if '猫' in line:\n",
    "        neko_lines.append(line)\n",
    "\n",
    "#「猫」が含まれる文章で使われている単語のリストを作成\n",
    "neko_words = []\n",
    "for l in neko_lines:\n",
    "    for w in l: \n",
    "        if w != '猫':\n",
    "            neko_words.append(w)\n",
    "\n",
    "import collections\n",
    "c = collections.Counter(neko_words)\n",
    "\n",
    "x = []\n",
    "y = []\n",
    "for w in c.most_common()[:10]:\n",
    "    x.append(w[0])\n",
    "    y.append(w[1])\n",
    "\n",
    "import matplotlib.pyplot as plt\n",
    "%matplotlib inline\n",
    "plt.rcParams['font.family'] = 'AppleGothic'\n",
    "\n",
    "fig, ax = plt.subplots(1, 1, figsize=(6, 5))\n",
    "ax.bar(x, y)\n",
    "ax.set_xlabel('surface')\n",
    "ax.set_ylabel('counts')\n",
    "ax.set_title('猫と共起頻度が高い語')\n",
    "plt.show()"
   ]
  },
  {
   "cell_type": "markdown",
   "metadata": {},
   "source": [
    "### 38. ヒストグラムPermalink\n",
    "単語の出現頻度のヒストグラムを描け．ただし，横軸は出現頻度を表し，1から単語の出現頻度の最大値までの線形目盛とする．縦軸はx軸で示される出現頻度となった単語の異なり数（種類数）である．"
   ]
  },
  {
   "cell_type": "code",
   "execution_count": 12,
   "metadata": {},
   "outputs": [
    {
     "data": {
      "image/png": "[encoded data removed]",
      "text/plain": [
       "<Figure size 432x360 with 1 Axes>"
      ]
     },
     "metadata": {
      "needs_background": "light"
     },
     "output_type": "display_data"
    }
   ],
   "source": [
    "path = '../input/neko.txt.mecab'\n",
    "dics = keitaiso(path)\n",
    "words = []\n",
    "for dic in dics:\n",
    "    words.append(dic['surface'])\n",
    "\n",
    "import collections\n",
    "c = collections.Counter(words)\n",
    "_, counts = zip(*c.most_common()[::-1])\n",
    "\n",
    "fig, ax = plt.subplots(1, 1, figsize=(6, 5))\n",
    "ax.hist(counts, range(1, 11))\n",
    "ax.set_xlabel('frequency')\n",
    "ax.set_ylabel('counts')\n",
    "plt.show()"
   ]
  },
  {
   "cell_type": "markdown",
   "metadata": {},
   "source": [
    "### 39. Zipfの法則Permalink\n",
    "単語の出現頻度順位を横軸，その出現頻度を縦軸として，両対数グラフをプロットせよ．"
   ]
  },
  {
   "cell_type": "code",
   "execution_count": 15,
   "metadata": {},
   "outputs": [
    {
     "name": "stderr",
     "output_type": "stream",
     "text": [
      "/Users/Bnaoyuki/anaconda3/lib/python3.7/site-packages/ipykernel_launcher.py:13: RuntimeWarning: divide by zero encountered in log\n",
      "  del sys.path[0]\n"
     ]
    },
    {
     "data": {
      "image/png": "[encoded data removed]",
      "text/plain": [
       "<Figure size 432x360 with 1 Axes>"
      ]
     },
     "metadata": {
      "needs_background": "light"
     },
     "output_type": "display_data"
    }
   ],
   "source": [
    "path = '../input/neko.txt.mecab'\n",
    "dics = keitaiso(path)\n",
    "words = []\n",
    "for dic in dics:\n",
    "    words.append(dic['surface'])\n",
    "\n",
    "import collections\n",
    "c = collections.Counter(words)\n",
    "_, counts = zip(*c.most_common())\n",
    "\n",
    "import numpy as np\n",
    "fig, ax = plt.subplots(1, 1, figsize=(6, 5))\n",
    "ax.scatter(np.log(range(len(counts))), np.log(counts))\n",
    "ax.set_xlabel('ranking')\n",
    "ax.set_ylabel('frequency')\n",
    "ax.set_title('(log/log)', loc='right')\n",
    "plt.show()"
   ]
  },
  {
   "cell_type": "code",
   "execution_count": null,
   "metadata": {},
   "outputs": [],
   "source": []
  }
 ],
 "metadata": {
  "kernelspec": {
   "display_name": "Python 3",
   "language": "python",
   "name": "python3"
  },
  "language_info": {
   "codemirror_mode": {
    "name": "ipython",
    "version": 3
   },
   "file_extension": ".py",
   "mimetype": "text/x-python",
   "name": "python",
   "nbconvert_exporter": "python",
   "pygments_lexer": "ipython3",
   "version": "3.7.6"
  }
 },
 "nbformat": 4,
 "nbformat_minor": 4
}
